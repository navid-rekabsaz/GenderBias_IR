{
 "cells": [
  {
   "cell_type": "code",
   "execution_count": null,
   "metadata": {},
   "outputs": [],
   "source": [
    "import collections\n",
    "import numpy as np\n",
    "import pickle\n"
   ]
  },
  {
   "cell_type": "code",
   "execution_count": null,
   "metadata": {},
   "outputs": [],
   "source": [
    "experiments = ['BM25',\n",
    "               'BERT_base',\n",
    "               ]\n",
    "\n",
    "metrics = ['RaB', 'ARaB'] \n",
    "methods = ['tf', 'bool']\n",
    "\n",
    "\n",
    "qry_bias_paths = {}\n",
    "for metric in metrics:\n",
    "    qry_bias_paths[metric] = {}\n",
    "    for exp_name in experiments:\n",
    "        qry_bias_paths[metric][exp_name] = {}\n",
    "        for _method in methods:\n",
    "            qry_bias_paths[metric][exp_name][_method] = 'data/%s_run_bias_%s_%s.pkl' % (exp_name, _method, metric)\n",
    "        \n",
    "\n",
    "queries_gender_annotated_path = \"resources/queries_gender_annotated.csv\"\n",
    "\n",
    "at_ranklist = [5, 10, 20, 30, 40]"
   ]
  },
  {
   "cell_type": "code",
   "execution_count": null,
   "metadata": {
    "scrolled": true
   },
   "outputs": [],
   "source": [
    "qry_bias_perqry = {}\n",
    "\n",
    "for metric in metrics:\n",
    "    qry_bias_perqry[metric] = {}\n",
    "    for exp_name in experiments:\n",
    "        qry_bias_perqry[metric][exp_name] = {}\n",
    "        for _method in methods:\n",
    "            _path = qry_bias_paths[metric][exp_name][_method]\n",
    "            print (_path)\n",
    "            with open(_path, 'rb') as fr:\n",
    "                qry_bias_perqry[metric][exp_name][_method] = pickle.load(fr)\n",
    "\n"
   ]
  },
  {
   "cell_type": "code",
   "execution_count": null,
   "metadata": {},
   "outputs": [],
   "source": []
  },
  {
   "cell_type": "code",
   "execution_count": null,
   "metadata": {},
   "outputs": [],
   "source": [
    "queries_effective = {}\n",
    "with open(queries_gender_annotated_path, 'r') as fr:\n",
    "    for line in fr:\n",
    "        vals = line.strip().split(',')\n",
    "        qryid = int(vals[0])\n",
    "        qrytext = ' '.join(vals[1:-1])\n",
    "        qrygender = vals[-1]\n",
    "        if qrygender == 'n':\n",
    "            queries_effective[qryid] = qrytext\n",
    "len(queries_effective)"
   ]
  },
  {
   "cell_type": "code",
   "execution_count": null,
   "metadata": {},
   "outputs": [],
   "source": []
  },
  {
   "cell_type": "code",
   "execution_count": null,
   "metadata": {},
   "outputs": [],
   "source": []
  },
  {
   "cell_type": "code",
   "execution_count": null,
   "metadata": {},
   "outputs": [],
   "source": [
    "eval_results_bias = {}\n",
    "eval_results_feml = {}\n",
    "eval_results_male = {}\n",
    "\n",
    "for metric in metrics:\n",
    "    eval_results_bias[metric] = {}\n",
    "    eval_results_feml[metric] = {}\n",
    "    eval_results_male[metric] = {}\n",
    "    for exp_name in experiments:\n",
    "        eval_results_bias[metric][exp_name] = {}\n",
    "        eval_results_feml[metric][exp_name] = {}\n",
    "        eval_results_male[metric][exp_name] = {}\n",
    "        for _method in methods:\n",
    "            eval_results_bias[metric][exp_name][_method] = {}\n",
    "            eval_results_feml[metric][exp_name][_method] = {}\n",
    "            eval_results_male[metric][exp_name][_method] = {}\n",
    "            for at_rank in at_ranklist:\n",
    "                _bias_list = []\n",
    "                _feml_list = []\n",
    "                _male_list = []\n",
    "\n",
    "                for qryid in queries_effective.keys():\n",
    "                    if qryid in qry_bias_perqry[metric][exp_name][_method][at_rank]:\n",
    "                        _bias_list.append(qry_bias_perqry[metric][exp_name][_method][at_rank][qryid][0])\n",
    "                        _feml_list.append(qry_bias_perqry[metric][exp_name][_method][at_rank][qryid][1])\n",
    "                        _male_list.append(qry_bias_perqry[metric][exp_name][_method][at_rank][qryid][2])\n",
    "                    else:\n",
    "                        pass\n",
    "                        #print ('missing', metric, exp_name, _method, at_rank, qryid)\n",
    "\n",
    "                eval_results_bias[metric][exp_name][_method][at_rank] = np.mean([(_male_x-_feml_x) for _male_x, _feml_x in zip(_male_list, _feml_list)])\n",
    "                eval_results_feml[metric][exp_name][_method][at_rank] = np.mean(_feml_list)\n",
    "                eval_results_male[metric][exp_name][_method][at_rank] = np.mean(_male_list)\n",
    "\n",
    "\n"
   ]
  },
  {
   "cell_type": "code",
   "execution_count": null,
   "metadata": {},
   "outputs": [],
   "source": []
  },
  {
   "cell_type": "code",
   "execution_count": null,
   "metadata": {},
   "outputs": [],
   "source": []
  },
  {
   "cell_type": "code",
   "execution_count": null,
   "metadata": {
    "scrolled": false
   },
   "outputs": [],
   "source": [
    "\n",
    "for metric in metrics:\n",
    "    print (metric)\n",
    "    for at_rank in at_ranklist:\n",
    "        for _method in methods:\n",
    "            for exp_name in experiments:\n",
    "                print (\"%25s\\t%2d %5s\\t%f\\t%f\\t%f\" % (exp_name, at_rank, _method, eval_results_bias[metric][exp_name][_method][at_rank], eval_results_feml[metric][exp_name][_method][at_rank], eval_results_male[metric][exp_name][_method][at_rank]))\n",
    "            print ()\n",
    "        print (\"==========\")"
   ]
  },
  {
   "cell_type": "code",
   "execution_count": null,
   "metadata": {},
   "outputs": [],
   "source": []
  },
  {
   "cell_type": "code",
   "execution_count": null,
   "metadata": {},
   "outputs": [],
   "source": []
  }
 ],
 "metadata": {
  "kernelspec": {
   "display_name": "Python 3",
   "language": "python",
   "name": "python3"
  },
  "language_info": {
   "codemirror_mode": {
    "name": "ipython",
    "version": 3
   },
   "file_extension": ".py",
   "mimetype": "text/x-python",
   "name": "python",
   "nbconvert_exporter": "python",
   "pygments_lexer": "ipython3",
   "version": "3.7.4"
  }
 },
 "nbformat": 4,
 "nbformat_minor": 2
}
