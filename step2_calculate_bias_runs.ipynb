{
 "cells": [
  {
   "cell_type": "code",
   "execution_count": 1,
   "metadata": {},
   "outputs": [],
   "source": [
    "import collections\n",
    "import numpy as np\n",
    "import pickle\n"
   ]
  },
  {
   "cell_type": "code",
   "execution_count": 10,
   "metadata": {},
   "outputs": [],
   "source": [
    "# Paths to TREC run files\n",
    "experiments = {'BM25':'TO_BE_SET',\n",
    "               'BERT_Base':'TO_BE_SET'\n",
    "               }\n",
    "\n",
    "docs_bias_paths = {'tc':\"data/msmarco_passage/docs_bias_tc.pkl\",\n",
    "                   'tf':\"data/msmarco_passage/docs_bias_tf.pkl\",\n",
    "                   'bool':\"data/msmarco_passage/docs_bias_bool.pkl\",\n",
    "                   }\n",
    "\n",
    "at_ranklist = [5, 10, 20, 30, 40]\n",
    "\n",
    "queries_gender_annotated_path = \"resources/queries_gender_annotated.csv\"\n",
    "\n",
    "save_path_base = \"data/msmarco_passage\""
   ]
  },
  {
   "cell_type": "code",
   "execution_count": null,
   "metadata": {},
   "outputs": [],
   "source": []
  },
  {
   "cell_type": "code",
   "execution_count": 3,
   "metadata": {},
   "outputs": [
    {
     "name": "stdout",
     "output_type": "stream",
     "text": [
      "tc\n",
      "tf\n",
      "bool\n"
     ]
    }
   ],
   "source": [
    "#Loading saved document bias values\n",
    "docs_bias = {}\n",
    "for _method in docs_bias_paths:\n",
    "    print (_method)\n",
    "    with open(docs_bias_paths[_method], 'rb') as fr:\n",
    "        docs_bias[_method] = pickle.load(fr)\n"
   ]
  },
  {
   "cell_type": "code",
   "execution_count": null,
   "metadata": {},
   "outputs": [],
   "source": []
  },
  {
   "cell_type": "code",
   "execution_count": 11,
   "metadata": {},
   "outputs": [
    {
     "name": "stdout",
     "output_type": "stream",
     "text": [
      "3750\n"
     ]
    }
   ],
   "source": [
    "#Loading gender annotated queries\n",
    "qryids_filter = []\n",
    "with open(queries_gender_annotated_path, 'r') as fr:\n",
    "    for line in fr:\n",
    "        vals = line.strip().split(',')\n",
    "        qryid = int(vals[0])\n",
    "        qryids_filter.append(qryid)\n",
    "\n",
    "qryids_filter = set(qryids_filter)\n",
    "print (len(qryids_filter))"
   ]
  },
  {
   "cell_type": "code",
   "execution_count": null,
   "metadata": {},
   "outputs": [],
   "source": []
  },
  {
   "cell_type": "code",
   "execution_count": 17,
   "metadata": {},
   "outputs": [
    {
     "name": "stdout",
     "output_type": "stream",
     "text": [
      "Number of effective queries in BM25 using tc : 215\n",
      "Number of effective queries in BM25 using tf : 215\n",
      "Number of effective queries in BM25 using bool : 215\n",
      "\n",
      "Number of effective queries in BERT_Base using tc : 215\n",
      "Number of effective queries in BERT_Base using tf : 215\n",
      "Number of effective queries in BERT_Base using bool : 215\n",
      "\n",
      "done!\n"
     ]
    }
   ],
   "source": [
    "#Loading run files\n",
    "\n",
    "runs_docs_bias = {}\n",
    "    \n",
    "for exp_name in experiments:\n",
    "    \n",
    "    run_path = experiments[exp_name]\n",
    "    runs_docs_bias[exp_name] = {}\n",
    "    \n",
    "    for _method in docs_bias_paths:\n",
    "        runs_docs_bias[exp_name][_method] = {}\n",
    "    \n",
    "    with open(run_path) as fr:\n",
    "        qryid_cur = 0\n",
    "        for i, line in enumerate(fr):\n",
    "            vals = line.strip().split(' ')\n",
    "            if len(vals) == 6:\n",
    "                qryid = int(vals[0])\n",
    "                docid = int(vals[2])\n",
    "\n",
    "                if (qryid not in qryids_filter):\n",
    "                    continue\n",
    "                \n",
    "                if qryid != qryid_cur:\n",
    "                    for _method in docs_bias_paths:\n",
    "                        runs_docs_bias[exp_name][_method][qryid] = []\n",
    "                    qryid_cur = qryid\n",
    "                for _method in docs_bias_paths:\n",
    "                    runs_docs_bias[exp_name][_method][qryid].append(docs_bias[_method][docid])\n",
    "      \n",
    "    for _method in docs_bias_paths:\n",
    "        print (\"Number of effective queries in %s using %s : %d\" % (exp_name, _method, len(runs_docs_bias[exp_name][_method].keys())))\n",
    "    print ()\n",
    "print ('done!')\n",
    "\n"
   ]
  },
  {
   "cell_type": "code",
   "execution_count": null,
   "metadata": {},
   "outputs": [],
   "source": []
  },
  {
   "cell_type": "code",
   "execution_count": 18,
   "metadata": {},
   "outputs": [
    {
     "name": "stdout",
     "output_type": "stream",
     "text": [
      "RaB_q (-0.4, 0.3, 0.7)\n",
      "ARaB_q (0.3906349206349206, 0.5786904761904761, 0.18805555555555556)\n"
     ]
    }
   ],
   "source": [
    "def calc_RaB_q(bias_list, at_rank):\n",
    "    bias_val = np.mean([x[0] for x in bias_list[:at_rank]])\n",
    "    bias_feml_val = np.mean([x[1] for x in bias_list[:at_rank]])\n",
    "    bias_male_val = np.mean([x[2] for x in bias_list[:at_rank]])\n",
    "    \n",
    "    return bias_val, bias_feml_val, bias_male_val\n",
    "       \n",
    "    \n",
    "def calc_ARaB_q(bias_list, at_rank):\n",
    "    \n",
    "    _vals = []\n",
    "    _feml_vals = []\n",
    "    _male_vals = []\n",
    "    for t in range(at_rank):\n",
    "        if len(bias_list) >= t+1:\n",
    "            _val_RaB, _feml_val_RaB, _male_val_RaB = calc_RaB_q(bias_list, t+1)\n",
    "            _vals.append(_val_RaB)\n",
    "            _feml_vals.append(_feml_val_RaB)\n",
    "            _male_vals.append(_male_val_RaB)\n",
    "\n",
    "    bias_val = np.mean(_vals)\n",
    "    bias_feml_val = np.mean(_feml_vals)\n",
    "    bias_male_val = np.mean(_male_vals)\n",
    "    \n",
    "    return bias_val, bias_feml_val, bias_male_val\n",
    "\n",
    "_test = [(0.0, 0.0, 0.0),(3, 3, 0.0),(0, 0, 0.0),(0, 0, 0.0),(0, 0, 0.0),(0, 0, 0.0),(0, 0.0, 0.0),(-5, 0.0, 5),(0, 0.0, 0.0),(-2, 0.0, 2)]\n",
    "\n",
    "print ('RaB_q', calc_RaB_q(_test, 10))\n",
    "print ('ARaB_q', calc_ARaB_q(_test, 10))\n"
   ]
  },
  {
   "cell_type": "code",
   "execution_count": null,
   "metadata": {},
   "outputs": [],
   "source": []
  },
  {
   "cell_type": "code",
   "execution_count": null,
   "metadata": {},
   "outputs": [],
   "source": []
  },
  {
   "cell_type": "code",
   "execution_count": 21,
   "metadata": {
    "scrolled": true
   },
   "outputs": [
    {
     "name": "stdout",
     "output_type": "stream",
     "text": [
      "Calculating ranking bias ...\n",
      "BM25 tc\n",
      "BM25 tf\n",
      "BM25 bool\n",
      "BERT_Base tc\n",
      "BERT_Base tf\n",
      "BERT_Base bool\n",
      "done!\n"
     ]
    }
   ],
   "source": [
    "qry_bias_RaB = {}\n",
    "qry_bias_ARaB = {}\n",
    "     \n",
    "print ('Calculating ranking bias ...')\n",
    "\n",
    "        \n",
    "for exp_name in experiments:\n",
    "    qry_bias_RaB[exp_name] = {}\n",
    "    qry_bias_ARaB[exp_name] = {}\n",
    "\n",
    "\n",
    "    for _method in docs_bias_paths:\n",
    "        print (exp_name, _method)\n",
    "\n",
    "        qry_bias_RaB[exp_name][_method] = {}\n",
    "        qry_bias_ARaB[exp_name][_method] = {}\n",
    "\n",
    "        for at_rank in at_ranklist:\n",
    "            qry_bias_RaB[exp_name][_method][at_rank] = {}\n",
    "            qry_bias_ARaB[exp_name][_method][at_rank] = {}\n",
    "\n",
    "            for qry_id in runs_docs_bias[exp_name][_method]:\n",
    "                qry_bias_RaB[exp_name][_method][at_rank][qry_id] = calc_RaB_q(runs_docs_bias[exp_name][_method][qry_id], at_rank)\n",
    "                qry_bias_ARaB[exp_name][_method][at_rank][qry_id] = calc_ARaB_q(runs_docs_bias[exp_name][_method][qry_id], at_rank)\n",
    "    \n",
    "print ('done!')\n"
   ]
  },
  {
   "cell_type": "code",
   "execution_count": null,
   "metadata": {},
   "outputs": [],
   "source": []
  },
  {
   "cell_type": "code",
   "execution_count": 23,
   "metadata": {},
   "outputs": [
    {
     "name": "stdout",
     "output_type": "stream",
     "text": [
      "data/msmarco_passage/run_bias_BM25_tc\n",
      "data/msmarco_passage/run_bias_BM25_tf\n",
      "data/msmarco_passage/run_bias_BM25_bool\n",
      "data/msmarco_passage/run_bias_BERT_Base_tc\n",
      "data/msmarco_passage/run_bias_BERT_Base_tf\n",
      "data/msmarco_passage/run_bias_BERT_Base_bool\n"
     ]
    }
   ],
   "source": [
    "for exp_name in experiments:\n",
    "    for _method in docs_bias_paths:\n",
    "        save_path = save_path_base + \"/run_bias_%s_%s\" % (exp_name, _method)\n",
    "\n",
    "        print (save_path)\n",
    "\n",
    "        with open(save_path + '_RaB.pkl', 'wb') as fw:\n",
    "            pickle.dump(qry_bias_RaB[exp_name][_method], fw)\n",
    "\n",
    "        with open(save_path + '_ARaB.pkl', 'wb') as fw:\n",
    "            pickle.dump(qry_bias_ARaB[exp_name][_method], fw)\n",
    "\n",
    "    "
   ]
  },
  {
   "cell_type": "code",
   "execution_count": null,
   "metadata": {},
   "outputs": [],
   "source": []
  }
 ],
 "metadata": {
  "kernelspec": {
   "display_name": "Python 3",
   "language": "python",
   "name": "python3"
  },
  "language_info": {
   "codemirror_mode": {
    "name": "ipython",
    "version": 3
   },
   "file_extension": ".py",
   "mimetype": "text/x-python",
   "name": "python",
   "nbconvert_exporter": "python",
   "pygments_lexer": "ipython3",
   "version": "3.7.10"
  }
 },
 "nbformat": 4,
 "nbformat_minor": 2
}
