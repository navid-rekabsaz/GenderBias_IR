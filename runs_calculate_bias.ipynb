{
 "cells": [
  {
   "cell_type": "code",
   "execution_count": null,
   "metadata": {},
   "outputs": [],
   "source": [
    "import collections\n",
    "import numpy as np\n",
    "import pickle\n"
   ]
  },
  {
   "cell_type": "code",
   "execution_count": null,
   "metadata": {},
   "outputs": [],
   "source": [
    "docs_bias_paths = {'tc':\"../bias_ir/data/msmarco_passage_docs_bias_tc.pkl\",\n",
    "                   'tf':\"../bias_ir/data/msmarco_passage_docs_bias_tf.pkl\",\n",
    "                   'bool':\"../bias_ir/data/msmarco_passage_docs_bias_bool.pkl\",\n",
    "                   }\n",
    "\n",
    "at_ranklist = [5, 10, 20, 30, 40]\n",
    "\n",
    "# dictionary of models (experiemnts) with their corresponding path of run files\n",
    "# the path of these run files should be set\n",
    "experiments = {'BM25':'../bias_ir/runfiles/BM25_test.txt',\n",
    "               'BERT_base':'../bias_ir/runfiles/BERT_base_test.txt'\n",
    "               }\n",
    "\n",
    "queries_gender_annotated_path = \"resources/queries_gender_annotated.csv\"\n"
   ]
  },
  {
   "cell_type": "code",
   "execution_count": null,
   "metadata": {},
   "outputs": [],
   "source": []
  },
  {
   "cell_type": "code",
   "execution_count": null,
   "metadata": {},
   "outputs": [],
   "source": [
    "#Loading saved document bias values\n",
    "docs_bias = {}\n",
    "for _method in docs_bias_paths:\n",
    "    print (_method)\n",
    "    with open(docs_bias_paths[_method], 'rb') as fr:\n",
    "        docs_bias[_method] = pickle.load(fr)\n"
   ]
  },
  {
   "cell_type": "code",
   "execution_count": null,
   "metadata": {},
   "outputs": [],
   "source": []
  },
  {
   "cell_type": "code",
   "execution_count": null,
   "metadata": {},
   "outputs": [],
   "source": [
    "#Loading gender annotated queries\n",
    "qryids_filter = []\n",
    "with open(queries_gender_annotated_path, 'r') as fr:\n",
    "    for line in fr:\n",
    "        vals = line.strip().split(',')\n",
    "        qryid = int(vals[0])\n",
    "        qryids_filter.append(qryid)\n",
    "\n",
    "qryids_filter = set(qryids_filter)\n",
    "print (len(qryids_filter))"
   ]
  },
  {
   "cell_type": "code",
   "execution_count": null,
   "metadata": {},
   "outputs": [],
   "source": []
  },
  {
   "cell_type": "code",
   "execution_count": null,
   "metadata": {},
   "outputs": [],
   "source": [
    "#Loading run files\n",
    "\n",
    "runs_docs_bias = {}\n",
    "    \n",
    "print ('reading run')\n",
    "for exp_name in experiments:\n",
    "    print (exp_name)\n",
    "\n",
    "    run_path = experiments[exp_name]\n",
    "    runs_docs_bias[exp_name] = {}\n",
    "    \n",
    "    for _method in docs_bias_paths:\n",
    "        runs_docs_bias[exp_name][_method] = {}\n",
    "    \n",
    "    with open(run_path) as fr:\n",
    "        qryid_cur = 0\n",
    "        for i, line in enumerate(fr):\n",
    "            if (i % 5000000 == 0) and (i != 0):\n",
    "                print ('line', i)\n",
    "\n",
    "            vals = line.strip().split(' ')\n",
    "            if len(vals) == 6:\n",
    "                qryid = int(vals[0])\n",
    "                docid = int(vals[2])\n",
    "\n",
    "                if (qryid not in qryids_filter):\n",
    "                    continue\n",
    "                \n",
    "                if qryid != qryid_cur:\n",
    "                    for _method in docs_bias_paths:\n",
    "                        runs_docs_bias[exp_name][_method][qryid] = []\n",
    "                    qryid_cur = qryid\n",
    "                for _method in docs_bias_paths:\n",
    "                    runs_docs_bias[exp_name][_method][qryid].append(docs_bias[_method][docid])\n",
    "      \n",
    "    for _method in docs_bias_paths:\n",
    "        print (_method, len(runs_docs_bias[exp_name][_method].keys()))\n",
    "    print ()\n",
    "print ('done!')\n",
    "\n"
   ]
  },
  {
   "cell_type": "code",
   "execution_count": null,
   "metadata": {},
   "outputs": [],
   "source": []
  },
  {
   "cell_type": "code",
   "execution_count": null,
   "metadata": {},
   "outputs": [],
   "source": [
    "def calc_RaB_q(bias_list, at_rank):\n",
    "    bias_val = np.mean([x[0] for x in bias_list[:at_rank]])\n",
    "    bias_feml_val = np.mean([x[1] for x in bias_list[:at_rank]])\n",
    "    bias_male_val = np.mean([x[2] for x in bias_list[:at_rank]])\n",
    "    \n",
    "    return bias_val, bias_feml_val, bias_male_val\n",
    "       \n",
    "    \n",
    "def calc_ARaB_q(bias_list, at_rank):\n",
    "    \n",
    "    _vals = []\n",
    "    _feml_vals = []\n",
    "    _male_vals = []\n",
    "    for t in range(at_rank):\n",
    "        if len(bias_list) >= t+1:\n",
    "            _val_RaB, _feml_val_RaB, _male_val_RaB = calc_RaB_q(bias_list, t+1)\n",
    "            _vals.append(_val_RaB)\n",
    "            _feml_vals.append(_feml_val_RaB)\n",
    "            _male_vals.append(_male_val_RaB)\n",
    "\n",
    "    bias_val = np.mean(_vals)\n",
    "    bias_feml_val = np.mean(_feml_vals)\n",
    "    bias_male_val = np.mean(_male_vals)\n",
    "    \n",
    "    return bias_val, bias_feml_val, bias_male_val\n",
    "\n",
    "_test = [(0.0, 0.0, 0.0),(3, 3, 0.0),(0, 0, 0.0),(0, 0, 0.0),(0, 0, 0.0),(0, 0, 0.0),(0, 0.0, 0.0),(-5, 0.0, 5),(0, 0.0, 0.0),(-2, 0.0, 2)]\n",
    "\n",
    "print ('RaB_q', calc_RaB_q(_test, 10))\n",
    "print ('ARaB_q', calc_ARaB_q(_test, 10))\n"
   ]
  },
  {
   "cell_type": "code",
   "execution_count": null,
   "metadata": {},
   "outputs": [],
   "source": []
  },
  {
   "cell_type": "code",
   "execution_count": null,
   "metadata": {},
   "outputs": [],
   "source": []
  },
  {
   "cell_type": "code",
   "execution_count": null,
   "metadata": {
    "scrolled": true
   },
   "outputs": [],
   "source": [
    "qry_bias_RaB = {}\n",
    "qry_bias_ARaB = {}\n",
    "     \n",
    "print ('calculating ranking bias')\n",
    "\n",
    "        \n",
    "for exp_name in experiments:\n",
    "    print (exp_name)\n",
    "    qry_bias_RaB[exp_name] = {}\n",
    "    qry_bias_ARaB[exp_name] = {}\n",
    "\n",
    "\n",
    "    for _method in docs_bias_paths:\n",
    "        print (_method)\n",
    "        \n",
    "        qry_bias_RaB[exp_name][_method] = {}\n",
    "        qry_bias_ARaB[exp_name][_method] = {}\n",
    "\n",
    "        for at_rank in at_ranklist:\n",
    "            print (at_rank)\n",
    "\n",
    "            qry_bias_RaB[exp_name][_method][at_rank] = {}\n",
    "            qry_bias_ARaB[exp_name][_method][at_rank] = {}\n",
    "\n",
    "            for qry_id in runs_docs_bias[exp_name][_method]:\n",
    "                qry_bias_RaB[exp_name][_method][at_rank][qry_id] = calc_RaB_q(runs_docs_bias[exp_name][_method][qry_id], at_rank)\n",
    "                qry_bias_ARaB[exp_name][_method][at_rank][qry_id] = calc_ARaB_q(runs_docs_bias[exp_name][_method][qry_id], at_rank)\n",
    "\n",
    "        print ()\n",
    "    \n",
    "print ('done!')\n"
   ]
  },
  {
   "cell_type": "code",
   "execution_count": null,
   "metadata": {},
   "outputs": [],
   "source": []
  },
  {
   "cell_type": "code",
   "execution_count": null,
   "metadata": {},
   "outputs": [],
   "source": [
    "for exp_name in experiments:\n",
    "    for _method in docs_bias_paths:\n",
    "        save_path = \"data/%s_run_bias_%s\" % (exp_name, _method)\n",
    "\n",
    "        print (save_path)\n",
    "\n",
    "        with open(save_path + '_RaB.pkl', 'wb') as fw:\n",
    "            pickle.dump(qry_bias_RaB[exp_name][_method], fw)\n",
    "\n",
    "        with open(save_path + '_ARaB.pkl', 'wb') as fw:\n",
    "            pickle.dump(qry_bias_ARaB[exp_name][_method], fw)\n",
    "\n",
    "    "
   ]
  },
  {
   "cell_type": "code",
   "execution_count": null,
   "metadata": {},
   "outputs": [],
   "source": []
  }
 ],
 "metadata": {
  "kernelspec": {
   "display_name": "Python 3",
   "language": "python",
   "name": "python3"
  },
  "language_info": {
   "codemirror_mode": {
    "name": "ipython",
    "version": 3
   },
   "file_extension": ".py",
   "mimetype": "text/x-python",
   "name": "python",
   "nbconvert_exporter": "python",
   "pygments_lexer": "ipython3",
   "version": "3.7.4"
  }
 },
 "nbformat": 4,
 "nbformat_minor": 2
}
