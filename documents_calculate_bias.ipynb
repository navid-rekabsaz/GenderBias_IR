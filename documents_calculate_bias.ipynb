{
 "cells": [
  {
   "cell_type": "code",
   "execution_count": null,
   "metadata": {},
   "outputs": [],
   "source": [
    "import collections\n",
    "import numpy as np\n",
    "import pickle"
   ]
  },
  {
   "cell_type": "code",
   "execution_count": null,
   "metadata": {},
   "outputs": [],
   "source": [
    "collection_path = \"\" #path to a preprocessed version of collection.tsv provided by MSMARCO collection\n",
    "wordlist_path = \"resources/wordlist_genderspecific.txt\"\n",
    "\n",
    "docs_bias_save_paths = {'tc':\"data/msmarco_passage_docs_bias_tc.pkl\",\n",
    "                        'bool':\"data/msmarco_passage_docs_bias_bool.pkl\",\n",
    "                        'tf':\"data/msmarco_passage_docs_bias_tf.pkl\"}\n"
   ]
  },
  {
   "cell_type": "code",
   "execution_count": null,
   "metadata": {},
   "outputs": [],
   "source": [
    "genderwords_feml = []\n",
    "genderwords_male = []\n",
    "\n",
    "for l in open(wordlist_path):\n",
    "    vals = l.strip().split(',')\n",
    "    if vals[1]=='f':\n",
    "        genderwords_feml.append(vals[0])\n",
    "    elif vals[1]=='m':\n",
    "        genderwords_male.append(vals[0])\n",
    "\n",
    "genderwords_feml = set(genderwords_feml)\n",
    "genderwords_male = set(genderwords_male)\n",
    "\n",
    "print(len(genderwords_feml), len(genderwords_male))"
   ]
  },
  {
   "cell_type": "code",
   "execution_count": null,
   "metadata": {},
   "outputs": [],
   "source": []
  },
  {
   "cell_type": "code",
   "execution_count": null,
   "metadata": {},
   "outputs": [],
   "source": [
    "def get_tokens(text):\n",
    "    return text.lower().split(\" \")\n",
    "\n",
    "def get_bias(tokens):\n",
    "    text_cnt = collections.Counter(tokens)\n",
    "    \n",
    "    cnt_feml = 0\n",
    "    cnt_male = 0\n",
    "    cnt_logfeml = 0\n",
    "    cnt_logmale = 0\n",
    "    for word in text_cnt:\n",
    "        if word in genderwords_feml:\n",
    "            cnt_feml += text_cnt[word]\n",
    "            cnt_logfeml += np.log(text_cnt[word] + 1)\n",
    "        elif word in genderwords_male:\n",
    "            cnt_male += text_cnt[word]\n",
    "            cnt_logmale += np.log(text_cnt[word] + 1)\n",
    "    text_len = np.sum(list(text_cnt.values()))\n",
    "    \n",
    "    bias_tc = (float(cnt_feml - cnt_male), float(cnt_feml), float(cnt_male))\n",
    "    bias_tf = (np.log(cnt_feml + 1) - np.log(cnt_male + 1), np.log(cnt_feml + 1), np.log(cnt_male + 1))\n",
    "    bias_bool = (np.sign(cnt_feml) - np.sign(cnt_male), np.sign(cnt_feml), np.sign(cnt_male))\n",
    "    \n",
    "    return bias_tc, bias_tf, bias_bool\n",
    "\n",
    "get_bias (get_tokens(\"a war day and many boys , women and men\"))"
   ]
  },
  {
   "cell_type": "code",
   "execution_count": null,
   "metadata": {},
   "outputs": [],
   "source": []
  },
  {
   "cell_type": "code",
   "execution_count": null,
   "metadata": {},
   "outputs": [],
   "source": [
    "docs_bias = {'tc':{}, 'tf':{}, 'bool':{}}\n",
    "empty_cnt = 0\n",
    "with open(collection_path) as fr:\n",
    "    for i, line in enumerate(fr):\n",
    "        vals = line.strip().split('\\t')\n",
    "        docid = int(vals[0])\n",
    "        if len(vals) == 2:\n",
    "            _text = vals[1]\n",
    "        else:\n",
    "            _text = \"\"\n",
    "            empty_cnt += 1\n",
    "        \n",
    "        _res = get_bias(get_tokens(_text))\n",
    "        docs_bias['tc'][docid] = _res[0]\n",
    "        docs_bias['tf'][docid] = _res[1]\n",
    "        docs_bias['bool'][docid] = _res[2]\n",
    "            \n",
    "        if i % 1000000 == 0:\n",
    "            print (i)\n",
    "            \n",
    "print ('done!')\n",
    "print ('number of skipped documents: %d' % empty_cnt)"
   ]
  },
  {
   "cell_type": "code",
   "execution_count": null,
   "metadata": {},
   "outputs": [],
   "source": []
  },
  {
   "cell_type": "code",
   "execution_count": null,
   "metadata": {},
   "outputs": [],
   "source": [
    "# saving bias values of documents\n",
    "for _method in docs_bias:\n",
    "    print (_method)\n",
    "    with open(docs_bias_paths[_method], 'wb') as fw:\n",
    "        pickle.dump(docs_bias[_method], fw)\n"
   ]
  },
  {
   "cell_type": "code",
   "execution_count": null,
   "metadata": {},
   "outputs": [],
   "source": []
  }
 ],
 "metadata": {
  "kernelspec": {
   "display_name": "Python 3",
   "language": "python",
   "name": "python3"
  },
  "language_info": {
   "codemirror_mode": {
    "name": "ipython",
    "version": 3
   },
   "file_extension": ".py",
   "mimetype": "text/x-python",
   "name": "python",
   "nbconvert_exporter": "python",
   "pygments_lexer": "ipython3",
   "version": "3.7.4"
  }
 },
 "nbformat": 4,
 "nbformat_minor": 2
}
